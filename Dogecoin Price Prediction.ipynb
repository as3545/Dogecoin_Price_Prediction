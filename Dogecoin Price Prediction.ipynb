{
 "cells": [
  {
   "cell_type": "code",
   "execution_count": 1,
   "id": "b83f69f1",
   "metadata": {},
   "outputs": [],
   "source": [
    "import pandas as p\n",
    "import numpy as np\n",
    "import matplotlib.pyplot as plt\n",
    "from sklearn  import model_selection\n",
    "from sklearn.model_selection import train_test_split\n",
    "from sklearn import metrics\n",
    "import seaborn as s\n",
    "from sklearn import ensemble\n",
    "from sklearn.tree import DecisionTreeClassifier\n",
    "from sklearn.ensemble import RandomForestRegressor"
   ]
  },
  {
   "cell_type": "code",
   "execution_count": 2,
   "id": "6e0919b4",
   "metadata": {},
   "outputs": [],
   "source": [
    "d=p.read_csv(\"DOGE-USD.csv\")"
   ]
  },
  {
   "cell_type": "code",
   "execution_count": 3,
   "id": "4a5db811",
   "metadata": {},
   "outputs": [
    {
     "data": {
      "text/html": [
       "<div>\n",
       "<style scoped>\n",
       "    .dataframe tbody tr th:only-of-type {\n",
       "        vertical-align: middle;\n",
       "    }\n",
       "\n",
       "    .dataframe tbody tr th {\n",
       "        vertical-align: top;\n",
       "    }\n",
       "\n",
       "    .dataframe thead th {\n",
       "        text-align: right;\n",
       "    }\n",
       "</style>\n",
       "<table border=\"1\" class=\"dataframe\">\n",
       "  <thead>\n",
       "    <tr style=\"text-align: right;\">\n",
       "      <th></th>\n",
       "      <th>Date</th>\n",
       "      <th>Open</th>\n",
       "      <th>High</th>\n",
       "      <th>Low</th>\n",
       "      <th>Close</th>\n",
       "      <th>Adj Close</th>\n",
       "      <th>Volume</th>\n",
       "    </tr>\n",
       "  </thead>\n",
       "  <tbody>\n",
       "    <tr>\n",
       "      <th>0</th>\n",
       "      <td>2017-11-09</td>\n",
       "      <td>0.001207</td>\n",
       "      <td>0.001415</td>\n",
       "      <td>0.001181</td>\n",
       "      <td>0.001415</td>\n",
       "      <td>0.001415</td>\n",
       "      <td>6259550.0</td>\n",
       "    </tr>\n",
       "    <tr>\n",
       "      <th>1</th>\n",
       "      <td>2017-11-10</td>\n",
       "      <td>0.001421</td>\n",
       "      <td>0.001431</td>\n",
       "      <td>0.001125</td>\n",
       "      <td>0.001163</td>\n",
       "      <td>0.001163</td>\n",
       "      <td>4246520.0</td>\n",
       "    </tr>\n",
       "    <tr>\n",
       "      <th>2</th>\n",
       "      <td>2017-11-11</td>\n",
       "      <td>0.001146</td>\n",
       "      <td>0.001257</td>\n",
       "      <td>0.001141</td>\n",
       "      <td>0.001201</td>\n",
       "      <td>0.001201</td>\n",
       "      <td>2231080.0</td>\n",
       "    </tr>\n",
       "    <tr>\n",
       "      <th>3</th>\n",
       "      <td>2017-11-12</td>\n",
       "      <td>0.001189</td>\n",
       "      <td>0.001210</td>\n",
       "      <td>0.001002</td>\n",
       "      <td>0.001038</td>\n",
       "      <td>0.001038</td>\n",
       "      <td>3288960.0</td>\n",
       "    </tr>\n",
       "    <tr>\n",
       "      <th>4</th>\n",
       "      <td>2017-11-13</td>\n",
       "      <td>0.001046</td>\n",
       "      <td>0.001212</td>\n",
       "      <td>0.001019</td>\n",
       "      <td>0.001211</td>\n",
       "      <td>0.001211</td>\n",
       "      <td>2481270.0</td>\n",
       "    </tr>\n",
       "  </tbody>\n",
       "</table>\n",
       "</div>"
      ],
      "text/plain": [
       "         Date      Open      High       Low     Close  Adj Close     Volume\n",
       "0  2017-11-09  0.001207  0.001415  0.001181  0.001415   0.001415  6259550.0\n",
       "1  2017-11-10  0.001421  0.001431  0.001125  0.001163   0.001163  4246520.0\n",
       "2  2017-11-11  0.001146  0.001257  0.001141  0.001201   0.001201  2231080.0\n",
       "3  2017-11-12  0.001189  0.001210  0.001002  0.001038   0.001038  3288960.0\n",
       "4  2017-11-13  0.001046  0.001212  0.001019  0.001211   0.001211  2481270.0"
      ]
     },
     "execution_count": 3,
     "metadata": {},
     "output_type": "execute_result"
    }
   ],
   "source": [
    "d.head()"
   ]
  },
  {
   "cell_type": "code",
   "execution_count": 4,
   "id": "b9f9ec64",
   "metadata": {},
   "outputs": [
    {
     "data": {
      "text/html": [
       "<div>\n",
       "<style scoped>\n",
       "    .dataframe tbody tr th:only-of-type {\n",
       "        vertical-align: middle;\n",
       "    }\n",
       "\n",
       "    .dataframe tbody tr th {\n",
       "        vertical-align: top;\n",
       "    }\n",
       "\n",
       "    .dataframe thead th {\n",
       "        text-align: right;\n",
       "    }\n",
       "</style>\n",
       "<table border=\"1\" class=\"dataframe\">\n",
       "  <thead>\n",
       "    <tr style=\"text-align: right;\">\n",
       "      <th></th>\n",
       "      <th>Date</th>\n",
       "      <th>Open</th>\n",
       "      <th>High</th>\n",
       "      <th>Low</th>\n",
       "      <th>Close</th>\n",
       "      <th>Adj Close</th>\n",
       "      <th>Volume</th>\n",
       "    </tr>\n",
       "  </thead>\n",
       "  <tbody>\n",
       "    <tr>\n",
       "      <th>1756</th>\n",
       "      <td>2022-08-31</td>\n",
       "      <td>0.061534</td>\n",
       "      <td>0.063333</td>\n",
       "      <td>0.061058</td>\n",
       "      <td>0.061330</td>\n",
       "      <td>0.061330</td>\n",
       "      <td>309748693.0</td>\n",
       "    </tr>\n",
       "    <tr>\n",
       "      <th>1757</th>\n",
       "      <td>2022-09-01</td>\n",
       "      <td>0.061336</td>\n",
       "      <td>0.062479</td>\n",
       "      <td>0.060194</td>\n",
       "      <td>0.062372</td>\n",
       "      <td>0.062372</td>\n",
       "      <td>328765413.0</td>\n",
       "    </tr>\n",
       "    <tr>\n",
       "      <th>1758</th>\n",
       "      <td>2022-09-02</td>\n",
       "      <td>0.062372</td>\n",
       "      <td>0.062712</td>\n",
       "      <td>0.060947</td>\n",
       "      <td>0.061635</td>\n",
       "      <td>0.061635</td>\n",
       "      <td>273453013.0</td>\n",
       "    </tr>\n",
       "    <tr>\n",
       "      <th>1759</th>\n",
       "      <td>2022-09-03</td>\n",
       "      <td>NaN</td>\n",
       "      <td>NaN</td>\n",
       "      <td>NaN</td>\n",
       "      <td>NaN</td>\n",
       "      <td>NaN</td>\n",
       "      <td>NaN</td>\n",
       "    </tr>\n",
       "    <tr>\n",
       "      <th>1760</th>\n",
       "      <td>2022-09-04</td>\n",
       "      <td>0.062682</td>\n",
       "      <td>0.062744</td>\n",
       "      <td>0.062667</td>\n",
       "      <td>0.062696</td>\n",
       "      <td>0.062696</td>\n",
       "      <td>297513408.0</td>\n",
       "    </tr>\n",
       "  </tbody>\n",
       "</table>\n",
       "</div>"
      ],
      "text/plain": [
       "            Date      Open      High       Low     Close  Adj Close  \\\n",
       "1756  2022-08-31  0.061534  0.063333  0.061058  0.061330   0.061330   \n",
       "1757  2022-09-01  0.061336  0.062479  0.060194  0.062372   0.062372   \n",
       "1758  2022-09-02  0.062372  0.062712  0.060947  0.061635   0.061635   \n",
       "1759  2022-09-03       NaN       NaN       NaN       NaN        NaN   \n",
       "1760  2022-09-04  0.062682  0.062744  0.062667  0.062696   0.062696   \n",
       "\n",
       "           Volume  \n",
       "1756  309748693.0  \n",
       "1757  328765413.0  \n",
       "1758  273453013.0  \n",
       "1759          NaN  \n",
       "1760  297513408.0  "
      ]
     },
     "execution_count": 4,
     "metadata": {},
     "output_type": "execute_result"
    }
   ],
   "source": [
    "d.tail()"
   ]
  },
  {
   "cell_type": "code",
   "execution_count": 5,
   "id": "11ea65ac",
   "metadata": {},
   "outputs": [
    {
     "data": {
      "text/plain": [
       "(1761, 7)"
      ]
     },
     "execution_count": 5,
     "metadata": {},
     "output_type": "execute_result"
    }
   ],
   "source": [
    "d.shape"
   ]
  },
  {
   "cell_type": "code",
   "execution_count": 6,
   "id": "f77b573f",
   "metadata": {},
   "outputs": [
    {
     "data": {
      "text/plain": [
       "12327"
      ]
     },
     "execution_count": 6,
     "metadata": {},
     "output_type": "execute_result"
    }
   ],
   "source": [
    "d.size"
   ]
  },
  {
   "cell_type": "code",
   "execution_count": 7,
   "id": "fa4bd9f2",
   "metadata": {},
   "outputs": [
    {
     "data": {
      "text/plain": [
       "Date         1761\n",
       "Open         1760\n",
       "High         1760\n",
       "Low          1760\n",
       "Close        1760\n",
       "Adj Close    1760\n",
       "Volume       1760\n",
       "dtype: int64"
      ]
     },
     "execution_count": 7,
     "metadata": {},
     "output_type": "execute_result"
    }
   ],
   "source": [
    "d.count()"
   ]
  },
  {
   "cell_type": "code",
   "execution_count": 8,
   "id": "2876a8cd",
   "metadata": {},
   "outputs": [
    {
     "data": {
      "text/plain": [
       "Date        Open      High      Low       Close     Adj Close  Volume      \n",
       "2017-11-09  0.001207  0.001415  0.001181  0.001415  0.001415   6.259550e+06    1\n",
       "2021-01-21  0.009062  0.009089  0.008061  0.008166  0.008166   2.154198e+08    1\n",
       "2021-02-01  0.037054  0.043250  0.033367  0.034875  0.034875   6.319224e+09    1\n",
       "2021-01-31  0.028191  0.045289  0.027102  0.037196  0.037196   8.548998e+09    1\n",
       "2021-01-30  0.046803  0.049901  0.022488  0.028176  0.028176   8.735577e+09    1\n",
       "                                                                              ..\n",
       "2019-06-15  0.003135  0.003204  0.003097  0.003157  0.003157   6.343642e+07    1\n",
       "2019-06-14  0.003075  0.003142  0.003037  0.003124  0.003124   5.925285e+07    1\n",
       "2019-06-13  0.003063  0.003168  0.003030  0.003074  0.003074   6.697369e+07    1\n",
       "2019-06-12  0.003061  0.003094  0.003019  0.003067  0.003067   6.954317e+07    1\n",
       "2022-09-04  0.062682  0.062744  0.062667  0.062696  0.062696   2.975134e+08    1\n",
       "Length: 1760, dtype: int64"
      ]
     },
     "execution_count": 8,
     "metadata": {},
     "output_type": "execute_result"
    }
   ],
   "source": [
    "d.value_counts()"
   ]
  },
  {
   "cell_type": "code",
   "execution_count": 9,
   "id": "b4c3dfec",
   "metadata": {},
   "outputs": [
    {
     "data": {
      "text/plain": [
       "Date         0\n",
       "Open         1\n",
       "High         1\n",
       "Low          1\n",
       "Close        1\n",
       "Adj Close    1\n",
       "Volume       1\n",
       "dtype: int64"
      ]
     },
     "execution_count": 9,
     "metadata": {},
     "output_type": "execute_result"
    }
   ],
   "source": [
    "d.isnull().sum()"
   ]
  },
  {
   "cell_type": "code",
   "execution_count": 10,
   "id": "bb951582",
   "metadata": {},
   "outputs": [
    {
     "data": {
      "text/plain": [
       "Date         False\n",
       "Open          True\n",
       "High          True\n",
       "Low           True\n",
       "Close         True\n",
       "Adj Close     True\n",
       "Volume        True\n",
       "dtype: bool"
      ]
     },
     "execution_count": 10,
     "metadata": {},
     "output_type": "execute_result"
    }
   ],
   "source": [
    "d.isna().any()"
   ]
  },
  {
   "cell_type": "code",
   "execution_count": 11,
   "id": "0d4f3ce7",
   "metadata": {},
   "outputs": [
    {
     "data": {
      "text/html": [
       "<div>\n",
       "<style scoped>\n",
       "    .dataframe tbody tr th:only-of-type {\n",
       "        vertical-align: middle;\n",
       "    }\n",
       "\n",
       "    .dataframe tbody tr th {\n",
       "        vertical-align: top;\n",
       "    }\n",
       "\n",
       "    .dataframe thead th {\n",
       "        text-align: right;\n",
       "    }\n",
       "</style>\n",
       "<table border=\"1\" class=\"dataframe\">\n",
       "  <thead>\n",
       "    <tr style=\"text-align: right;\">\n",
       "      <th></th>\n",
       "      <th>Open</th>\n",
       "      <th>High</th>\n",
       "      <th>Low</th>\n",
       "      <th>Close</th>\n",
       "      <th>Adj Close</th>\n",
       "      <th>Volume</th>\n",
       "    </tr>\n",
       "  </thead>\n",
       "  <tbody>\n",
       "    <tr>\n",
       "      <th>count</th>\n",
       "      <td>1760.000000</td>\n",
       "      <td>1760.000000</td>\n",
       "      <td>1760.000000</td>\n",
       "      <td>1760.000000</td>\n",
       "      <td>1760.000000</td>\n",
       "      <td>1.760000e+03</td>\n",
       "    </tr>\n",
       "    <tr>\n",
       "      <th>mean</th>\n",
       "      <td>0.059575</td>\n",
       "      <td>0.063096</td>\n",
       "      <td>0.056126</td>\n",
       "      <td>0.059619</td>\n",
       "      <td>0.059619</td>\n",
       "      <td>1.016258e+09</td>\n",
       "    </tr>\n",
       "    <tr>\n",
       "      <th>std</th>\n",
       "      <td>0.101325</td>\n",
       "      <td>0.109152</td>\n",
       "      <td>0.093695</td>\n",
       "      <td>0.101379</td>\n",
       "      <td>0.101379</td>\n",
       "      <td>3.563999e+09</td>\n",
       "    </tr>\n",
       "    <tr>\n",
       "      <th>min</th>\n",
       "      <td>0.001046</td>\n",
       "      <td>0.001210</td>\n",
       "      <td>0.001002</td>\n",
       "      <td>0.001038</td>\n",
       "      <td>0.001038</td>\n",
       "      <td>1.431720e+06</td>\n",
       "    </tr>\n",
       "    <tr>\n",
       "      <th>25%</th>\n",
       "      <td>0.002550</td>\n",
       "      <td>0.002616</td>\n",
       "      <td>0.002500</td>\n",
       "      <td>0.002548</td>\n",
       "      <td>0.002548</td>\n",
       "      <td>2.307671e+07</td>\n",
       "    </tr>\n",
       "    <tr>\n",
       "      <th>50%</th>\n",
       "      <td>0.003476</td>\n",
       "      <td>0.003603</td>\n",
       "      <td>0.003356</td>\n",
       "      <td>0.003495</td>\n",
       "      <td>0.003495</td>\n",
       "      <td>8.981855e+07</td>\n",
       "    </tr>\n",
       "    <tr>\n",
       "      <th>75%</th>\n",
       "      <td>0.070633</td>\n",
       "      <td>0.075035</td>\n",
       "      <td>0.068478</td>\n",
       "      <td>0.070657</td>\n",
       "      <td>0.070657</td>\n",
       "      <td>6.565853e+08</td>\n",
       "    </tr>\n",
       "    <tr>\n",
       "      <th>max</th>\n",
       "      <td>0.687801</td>\n",
       "      <td>0.737567</td>\n",
       "      <td>0.608168</td>\n",
       "      <td>0.684777</td>\n",
       "      <td>0.684777</td>\n",
       "      <td>6.941068e+10</td>\n",
       "    </tr>\n",
       "  </tbody>\n",
       "</table>\n",
       "</div>"
      ],
      "text/plain": [
       "              Open         High          Low        Close    Adj Close  \\\n",
       "count  1760.000000  1760.000000  1760.000000  1760.000000  1760.000000   \n",
       "mean      0.059575     0.063096     0.056126     0.059619     0.059619   \n",
       "std       0.101325     0.109152     0.093695     0.101379     0.101379   \n",
       "min       0.001046     0.001210     0.001002     0.001038     0.001038   \n",
       "25%       0.002550     0.002616     0.002500     0.002548     0.002548   \n",
       "50%       0.003476     0.003603     0.003356     0.003495     0.003495   \n",
       "75%       0.070633     0.075035     0.068478     0.070657     0.070657   \n",
       "max       0.687801     0.737567     0.608168     0.684777     0.684777   \n",
       "\n",
       "             Volume  \n",
       "count  1.760000e+03  \n",
       "mean   1.016258e+09  \n",
       "std    3.563999e+09  \n",
       "min    1.431720e+06  \n",
       "25%    2.307671e+07  \n",
       "50%    8.981855e+07  \n",
       "75%    6.565853e+08  \n",
       "max    6.941068e+10  "
      ]
     },
     "execution_count": 11,
     "metadata": {},
     "output_type": "execute_result"
    }
   ],
   "source": [
    "d.describe()"
   ]
  },
  {
   "cell_type": "code",
   "execution_count": 12,
   "id": "71f09385",
   "metadata": {},
   "outputs": [
    {
     "name": "stdout",
     "output_type": "stream",
     "text": [
      "<class 'pandas.core.frame.DataFrame'>\n",
      "RangeIndex: 1761 entries, 0 to 1760\n",
      "Data columns (total 7 columns):\n",
      " #   Column     Non-Null Count  Dtype  \n",
      "---  ------     --------------  -----  \n",
      " 0   Date       1761 non-null   object \n",
      " 1   Open       1760 non-null   float64\n",
      " 2   High       1760 non-null   float64\n",
      " 3   Low        1760 non-null   float64\n",
      " 4   Close      1760 non-null   float64\n",
      " 5   Adj Close  1760 non-null   float64\n",
      " 6   Volume     1760 non-null   float64\n",
      "dtypes: float64(6), object(1)\n",
      "memory usage: 96.4+ KB\n"
     ]
    }
   ],
   "source": [
    "d.info()"
   ]
  },
  {
   "cell_type": "code",
   "execution_count": 13,
   "id": "32fabcb2",
   "metadata": {},
   "outputs": [
    {
     "data": {
      "text/html": [
       "<div>\n",
       "<style scoped>\n",
       "    .dataframe tbody tr th:only-of-type {\n",
       "        vertical-align: middle;\n",
       "    }\n",
       "\n",
       "    .dataframe tbody tr th {\n",
       "        vertical-align: top;\n",
       "    }\n",
       "\n",
       "    .dataframe thead th {\n",
       "        text-align: right;\n",
       "    }\n",
       "</style>\n",
       "<table border=\"1\" class=\"dataframe\">\n",
       "  <thead>\n",
       "    <tr style=\"text-align: right;\">\n",
       "      <th></th>\n",
       "      <th>Open</th>\n",
       "      <th>High</th>\n",
       "      <th>Low</th>\n",
       "      <th>Close</th>\n",
       "      <th>Adj Close</th>\n",
       "      <th>Volume</th>\n",
       "    </tr>\n",
       "  </thead>\n",
       "  <tbody>\n",
       "    <tr>\n",
       "      <th>Open</th>\n",
       "      <td>1.000000</td>\n",
       "      <td>0.993904</td>\n",
       "      <td>0.993707</td>\n",
       "      <td>0.992514</td>\n",
       "      <td>0.992514</td>\n",
       "      <td>0.554850</td>\n",
       "    </tr>\n",
       "    <tr>\n",
       "      <th>High</th>\n",
       "      <td>0.993904</td>\n",
       "      <td>1.000000</td>\n",
       "      <td>0.986497</td>\n",
       "      <td>0.995104</td>\n",
       "      <td>0.995104</td>\n",
       "      <td>0.619321</td>\n",
       "    </tr>\n",
       "    <tr>\n",
       "      <th>Low</th>\n",
       "      <td>0.993707</td>\n",
       "      <td>0.986497</td>\n",
       "      <td>1.000000</td>\n",
       "      <td>0.994575</td>\n",
       "      <td>0.994575</td>\n",
       "      <td>0.519991</td>\n",
       "    </tr>\n",
       "    <tr>\n",
       "      <th>Close</th>\n",
       "      <td>0.992514</td>\n",
       "      <td>0.995104</td>\n",
       "      <td>0.994575</td>\n",
       "      <td>1.000000</td>\n",
       "      <td>1.000000</td>\n",
       "      <td>0.588678</td>\n",
       "    </tr>\n",
       "    <tr>\n",
       "      <th>Adj Close</th>\n",
       "      <td>0.992514</td>\n",
       "      <td>0.995104</td>\n",
       "      <td>0.994575</td>\n",
       "      <td>1.000000</td>\n",
       "      <td>1.000000</td>\n",
       "      <td>0.588678</td>\n",
       "    </tr>\n",
       "    <tr>\n",
       "      <th>Volume</th>\n",
       "      <td>0.554850</td>\n",
       "      <td>0.619321</td>\n",
       "      <td>0.519991</td>\n",
       "      <td>0.588678</td>\n",
       "      <td>0.588678</td>\n",
       "      <td>1.000000</td>\n",
       "    </tr>\n",
       "  </tbody>\n",
       "</table>\n",
       "</div>"
      ],
      "text/plain": [
       "               Open      High       Low     Close  Adj Close    Volume\n",
       "Open       1.000000  0.993904  0.993707  0.992514   0.992514  0.554850\n",
       "High       0.993904  1.000000  0.986497  0.995104   0.995104  0.619321\n",
       "Low        0.993707  0.986497  1.000000  0.994575   0.994575  0.519991\n",
       "Close      0.992514  0.995104  0.994575  1.000000   1.000000  0.588678\n",
       "Adj Close  0.992514  0.995104  0.994575  1.000000   1.000000  0.588678\n",
       "Volume     0.554850  0.619321  0.519991  0.588678   0.588678  1.000000"
      ]
     },
     "execution_count": 13,
     "metadata": {},
     "output_type": "execute_result"
    }
   ],
   "source": [
    "d.corr()"
   ]
  },
  {
   "cell_type": "code",
   "execution_count": 14,
   "id": "c1415c4a",
   "metadata": {},
   "outputs": [
    {
     "data": {
      "text/html": [
       "<div>\n",
       "<style scoped>\n",
       "    .dataframe tbody tr th:only-of-type {\n",
       "        vertical-align: middle;\n",
       "    }\n",
       "\n",
       "    .dataframe tbody tr th {\n",
       "        vertical-align: top;\n",
       "    }\n",
       "\n",
       "    .dataframe thead th {\n",
       "        text-align: right;\n",
       "    }\n",
       "</style>\n",
       "<table border=\"1\" class=\"dataframe\">\n",
       "  <thead>\n",
       "    <tr style=\"text-align: right;\">\n",
       "      <th></th>\n",
       "      <th>Date</th>\n",
       "      <th>Open</th>\n",
       "      <th>High</th>\n",
       "      <th>Low</th>\n",
       "      <th>Close</th>\n",
       "      <th>Adj Close</th>\n",
       "      <th>Volume</th>\n",
       "    </tr>\n",
       "  </thead>\n",
       "  <tbody>\n",
       "    <tr>\n",
       "      <th>0</th>\n",
       "      <td>2017-11-09</td>\n",
       "      <td>0.001207</td>\n",
       "      <td>0.001415</td>\n",
       "      <td>0.001181</td>\n",
       "      <td>0.001415</td>\n",
       "      <td>0.001415</td>\n",
       "      <td>6259550.0</td>\n",
       "    </tr>\n",
       "    <tr>\n",
       "      <th>1</th>\n",
       "      <td>2017-11-10</td>\n",
       "      <td>0.001421</td>\n",
       "      <td>0.001431</td>\n",
       "      <td>0.001125</td>\n",
       "      <td>0.001163</td>\n",
       "      <td>0.001163</td>\n",
       "      <td>4246520.0</td>\n",
       "    </tr>\n",
       "    <tr>\n",
       "      <th>2</th>\n",
       "      <td>2017-11-11</td>\n",
       "      <td>0.001146</td>\n",
       "      <td>0.001257</td>\n",
       "      <td>0.001141</td>\n",
       "      <td>0.001201</td>\n",
       "      <td>0.001201</td>\n",
       "      <td>2231080.0</td>\n",
       "    </tr>\n",
       "    <tr>\n",
       "      <th>3</th>\n",
       "      <td>2017-11-12</td>\n",
       "      <td>0.001189</td>\n",
       "      <td>0.001210</td>\n",
       "      <td>0.001002</td>\n",
       "      <td>0.001038</td>\n",
       "      <td>0.001038</td>\n",
       "      <td>3288960.0</td>\n",
       "    </tr>\n",
       "    <tr>\n",
       "      <th>4</th>\n",
       "      <td>2017-11-13</td>\n",
       "      <td>0.001046</td>\n",
       "      <td>0.001212</td>\n",
       "      <td>0.001019</td>\n",
       "      <td>0.001211</td>\n",
       "      <td>0.001211</td>\n",
       "      <td>2481270.0</td>\n",
       "    </tr>\n",
       "    <tr>\n",
       "      <th>...</th>\n",
       "      <td>...</td>\n",
       "      <td>...</td>\n",
       "      <td>...</td>\n",
       "      <td>...</td>\n",
       "      <td>...</td>\n",
       "      <td>...</td>\n",
       "      <td>...</td>\n",
       "    </tr>\n",
       "    <tr>\n",
       "      <th>1755</th>\n",
       "      <td>2022-08-30</td>\n",
       "      <td>0.063899</td>\n",
       "      <td>0.064408</td>\n",
       "      <td>0.060550</td>\n",
       "      <td>0.061525</td>\n",
       "      <td>0.061525</td>\n",
       "      <td>328934727.0</td>\n",
       "    </tr>\n",
       "    <tr>\n",
       "      <th>1756</th>\n",
       "      <td>2022-08-31</td>\n",
       "      <td>0.061534</td>\n",
       "      <td>0.063333</td>\n",
       "      <td>0.061058</td>\n",
       "      <td>0.061330</td>\n",
       "      <td>0.061330</td>\n",
       "      <td>309748693.0</td>\n",
       "    </tr>\n",
       "    <tr>\n",
       "      <th>1757</th>\n",
       "      <td>2022-09-01</td>\n",
       "      <td>0.061336</td>\n",
       "      <td>0.062479</td>\n",
       "      <td>0.060194</td>\n",
       "      <td>0.062372</td>\n",
       "      <td>0.062372</td>\n",
       "      <td>328765413.0</td>\n",
       "    </tr>\n",
       "    <tr>\n",
       "      <th>1758</th>\n",
       "      <td>2022-09-02</td>\n",
       "      <td>0.062372</td>\n",
       "      <td>0.062712</td>\n",
       "      <td>0.060947</td>\n",
       "      <td>0.061635</td>\n",
       "      <td>0.061635</td>\n",
       "      <td>273453013.0</td>\n",
       "    </tr>\n",
       "    <tr>\n",
       "      <th>1760</th>\n",
       "      <td>2022-09-04</td>\n",
       "      <td>0.062682</td>\n",
       "      <td>0.062744</td>\n",
       "      <td>0.062667</td>\n",
       "      <td>0.062696</td>\n",
       "      <td>0.062696</td>\n",
       "      <td>297513408.0</td>\n",
       "    </tr>\n",
       "  </tbody>\n",
       "</table>\n",
       "<p>1760 rows × 7 columns</p>\n",
       "</div>"
      ],
      "text/plain": [
       "            Date      Open      High       Low     Close  Adj Close  \\\n",
       "0     2017-11-09  0.001207  0.001415  0.001181  0.001415   0.001415   \n",
       "1     2017-11-10  0.001421  0.001431  0.001125  0.001163   0.001163   \n",
       "2     2017-11-11  0.001146  0.001257  0.001141  0.001201   0.001201   \n",
       "3     2017-11-12  0.001189  0.001210  0.001002  0.001038   0.001038   \n",
       "4     2017-11-13  0.001046  0.001212  0.001019  0.001211   0.001211   \n",
       "...          ...       ...       ...       ...       ...        ...   \n",
       "1755  2022-08-30  0.063899  0.064408  0.060550  0.061525   0.061525   \n",
       "1756  2022-08-31  0.061534  0.063333  0.061058  0.061330   0.061330   \n",
       "1757  2022-09-01  0.061336  0.062479  0.060194  0.062372   0.062372   \n",
       "1758  2022-09-02  0.062372  0.062712  0.060947  0.061635   0.061635   \n",
       "1760  2022-09-04  0.062682  0.062744  0.062667  0.062696   0.062696   \n",
       "\n",
       "           Volume  \n",
       "0       6259550.0  \n",
       "1       4246520.0  \n",
       "2       2231080.0  \n",
       "3       3288960.0  \n",
       "4       2481270.0  \n",
       "...           ...  \n",
       "1755  328934727.0  \n",
       "1756  309748693.0  \n",
       "1757  328765413.0  \n",
       "1758  273453013.0  \n",
       "1760  297513408.0  \n",
       "\n",
       "[1760 rows x 7 columns]"
      ]
     },
     "execution_count": 14,
     "metadata": {},
     "output_type": "execute_result"
    }
   ],
   "source": [
    "d.dropna()"
   ]
  },
  {
   "cell_type": "code",
   "execution_count": 15,
   "id": "c417791b",
   "metadata": {},
   "outputs": [
    {
     "data": {
      "text/plain": [
       "Open         True\n",
       "High         True\n",
       "Low          True\n",
       "Close        True\n",
       "Adj Close    True\n",
       "Volume       True\n",
       "dtype: bool"
      ]
     },
     "execution_count": 15,
     "metadata": {},
     "output_type": "execute_result"
    }
   ],
   "source": [
    "d['Date']=p.to_datetime(d['Date'],infer_datetime_format=True)\n",
    "d.set_index('Date', inplace=True)\n",
    "d.isnull().any()"
   ]
  },
  {
   "cell_type": "code",
   "execution_count": 16,
   "id": "2ea5ad6a",
   "metadata": {},
   "outputs": [
    {
     "data": {
      "text/plain": [
       "<Figure size 1200x1200 with 0 Axes>"
      ]
     },
     "metadata": {},
     "output_type": "display_data"
    }
   ],
   "source": [
    "plt.figure(figsize=(12,12))\n",
    "x=d.groupby('Date')['Close'].mean()"
   ]
  },
  {
   "cell_type": "code",
   "execution_count": 17,
   "id": "d09fc782",
   "metadata": {},
   "outputs": [
    {
     "data": {
      "text/plain": [
       "Text(0.5, 1.0, 'Date vs Volume')"
      ]
     },
     "execution_count": 17,
     "metadata": {},
     "output_type": "execute_result"
    },
    {
     "data": {
      "image/png": "[encoded data removed]",
      "text/plain": [
       "<Figure size 640x480 with 1 Axes>"
      ]
     },
     "metadata": {},
     "output_type": "display_data"
    }
   ],
   "source": [
    "x.plot(linewidth=2.5, color='r')\n",
    "plt.xlabel('Date')\n",
    "plt.ylabel(\"Volume\")\n",
    "plt.title(\"Date vs Volume\")"
   ]
  },
  {
   "cell_type": "code",
   "execution_count": 18,
   "id": "d79fe693",
   "metadata": {},
   "outputs": [],
   "source": [
    "d[\"gap\"] = (d[\"High\"] - d[\"Low\"]) * d[\"Volume\"]\n"
   ]
  },
  {
   "cell_type": "code",
   "execution_count": 19,
   "id": "277abf12",
   "metadata": {},
   "outputs": [],
   "source": [
    "d[\"y\"] = d[\"High\"] / d[\"Volume\"]"
   ]
  },
  {
   "cell_type": "code",
   "execution_count": 20,
   "id": "f3f4fec7",
   "metadata": {},
   "outputs": [],
   "source": [
    "d[\"z\"] = d[\"Low\"] / d[\"Volume\"]"
   ]
  },
  {
   "cell_type": "code",
   "execution_count": 21,
   "id": "f2b949df",
   "metadata": {},
   "outputs": [],
   "source": [
    "d[\"a\"] = d[\"High\"] / d[\"Low\"]"
   ]
  },
  {
   "cell_type": "code",
   "execution_count": 22,
   "id": "4272c22e",
   "metadata": {},
   "outputs": [],
   "source": [
    "d[\"b\"] = (d[\"High\"] / d[\"Low\"]) * d[\"Volume\"]"
   ]
  },
  {
   "cell_type": "code",
   "execution_count": 23,
   "id": "2330b509",
   "metadata": {},
   "outputs": [
    {
     "data": {
      "text/plain": [
       "Close        1.000000\n",
       "Adj Close    1.000000\n",
       "High         0.995104\n",
       "Low          0.994575\n",
       "Open         0.992514\n",
       "Volume       0.588678\n",
       "b            0.456479\n",
       "gap          0.383333\n",
       "a            0.172057\n",
       "z            0.063251\n",
       "y            0.063868\n",
       "Name: Close, dtype: float64"
      ]
     },
     "execution_count": 23,
     "metadata": {},
     "output_type": "execute_result"
    }
   ],
   "source": [
    "abs(d.corr()[\"Close\"].sort_values(ascending=False))"
   ]
  },
  {
   "cell_type": "code",
   "execution_count": 24,
   "id": "0881f507",
   "metadata": {},
   "outputs": [
    {
     "name": "stdout",
     "output_type": "stream",
     "text": [
      "(11, 11) (19, 11)\n"
     ]
    }
   ],
   "source": [
    "d2 = d.tail(30)\n",
    "t1 = d2[:11]\n",
    "t2 = d2[-19:] \n",
    "print(t1.shape, t2.shape)"
   ]
  },
  {
   "cell_type": "code",
   "execution_count": 25,
   "id": "57260e4f",
   "metadata": {},
   "outputs": [
    {
     "name": "stderr",
     "output_type": "stream",
     "text": [
      "C:\\Users\\ASUS\\AppData\\Local\\Programs\\Python\\Python39\\lib\\site-packages\\statsmodels\\tsa\\base\\tsa_model.py:473: ValueWarning: No frequency information was provided, so inferred frequency D will be used.\n",
      "  self._init_dates(dates, freq)\n",
      "C:\\Users\\ASUS\\AppData\\Local\\Programs\\Python\\Python39\\lib\\site-packages\\statsmodels\\tsa\\base\\tsa_model.py:473: ValueWarning: No frequency information was provided, so inferred frequency D will be used.\n",
      "  self._init_dates(dates, freq)\n",
      "C:\\Users\\ASUS\\AppData\\Local\\Programs\\Python\\Python39\\lib\\site-packages\\statsmodels\\tsa\\statespace\\sarimax.py:966: UserWarning: Non-stationary starting autoregressive parameters found. Using zeros as starting parameters.\n",
      "  warn('Non-stationary starting autoregressive parameters'\n",
      "C:\\Users\\ASUS\\AppData\\Local\\Programs\\Python\\Python39\\lib\\site-packages\\statsmodels\\tsa\\statespace\\sarimax.py:978: UserWarning: Non-invertible starting MA parameters found. Using zeros as starting parameters.\n",
      "  warn('Non-invertible starting MA parameters found.'\n"
     ]
    },
    {
     "name": "stdout",
     "output_type": "stream",
     "text": [
      "                               SARIMAX Results                                \n",
      "==============================================================================\n",
      "Dep. Variable:                  Close   No. Observations:                   11\n",
      "Model:               SARIMAX(2, 1, 1)   Log Likelihood                  95.346\n",
      "Date:                Thu, 24 Aug 2023   AIC                           -162.692\n",
      "Time:                        23:20:21   BIC                           -158.456\n",
      "Sample:                    08-06-2022   HQIC                          -167.339\n",
      "                         - 08-16-2022                                         \n",
      "Covariance Type:                  opg                                         \n",
      "==============================================================================\n",
      "                 coef    std err          z      P>|z|      [0.025      0.975]\n",
      "------------------------------------------------------------------------------\n",
      "Open        6.741e-08   3.27e-18   2.06e+10      0.000    6.74e-08    6.74e-08\n",
      "High       -9.471e-07   3.24e-18  -2.92e+11      0.000   -9.47e-07   -9.47e-07\n",
      "Low         9.066e-07   1.77e-17   5.12e+10      0.000    9.07e-07    9.07e-07\n",
      "Adj Close      1.0000   1.14e-17   8.78e+16      0.000       1.000       1.000\n",
      "Volume      2.578e-17   8.35e-10   3.09e-08      1.000   -1.64e-09    1.64e-09\n",
      "gap          -7.3e-17   8.47e-09  -8.62e-09      1.000   -1.66e-08    1.66e-08\n",
      "y          -1.474e-08   3.44e-25  -4.28e+16      0.000   -1.47e-08   -1.47e-08\n",
      "z          -1.451e-08    3.6e-25  -4.03e+16      0.000   -1.45e-08   -1.45e-08\n",
      "a           5.051e-08   3.41e-16   1.48e+08      0.000    5.05e-08    5.05e-08\n",
      "b          -5.417e-18   7.89e-10  -6.87e-09      1.000   -1.55e-09    1.55e-09\n",
      "ar.L1              -0   3.87e-18         -0      1.000   -7.59e-18    7.59e-18\n",
      "ar.L2               0   1.81e-22          0      1.000   -3.55e-22    3.55e-22\n",
      "ma.L1              -0   3.87e-18         -0      1.000   -7.59e-18    7.59e-18\n",
      "sigma2          1e-10   8.47e-10      0.118      0.906   -1.56e-09    1.76e-09\n",
      "===================================================================================\n",
      "Ljung-Box (L1) (Q):                   4.17   Jarque-Bera (JB):                 0.64\n",
      "Prob(Q):                              0.04   Prob(JB):                         0.72\n",
      "Heteroskedasticity (H):              40.30   Skew:                            -0.59\n",
      "Prob(H) (two-sided):                  0.01   Kurtosis:                         2.60\n",
      "===================================================================================\n",
      "\n",
      "Warnings:\n",
      "[1] Covariance matrix calculated using the outer product of gradients (complex-step).\n",
      "[2] Covariance matrix is singular or near-singular, with condition number 1.08e+43. Standard errors may be unstable.\n"
     ]
    },
    {
     "name": "stderr",
     "output_type": "stream",
     "text": [
      "C:\\Users\\ASUS\\AppData\\Local\\Programs\\Python\\Python39\\lib\\site-packages\\statsmodels\\base\\model.py:607: ConvergenceWarning: Maximum Likelihood optimization failed to converge. Check mle_retvals\n",
      "  warnings.warn(\"Maximum Likelihood optimization failed to \"\n"
     ]
    }
   ],
   "source": [
    "from statsmodels.tsa.statespace.sarimax import SARIMAX\n",
    "model = SARIMAX(endog=t1[\"Close\"], exog=t1.drop(\n",
    "    \"Close\", axis=1), order=(2, 1, 1))\n",
    "results = model.fit()\n",
    "print(results.summary())"
   ]
  }
 ],
 "metadata": {
  "kernelspec": {
   "display_name": "Python 3 (ipykernel)",
   "language": "python",
   "name": "python3"
  },
  "language_info": {
   "codemirror_mode": {
    "name": "ipython",
    "version": 3
   },
   "file_extension": ".py",
   "mimetype": "text/x-python",
   "name": "python",
   "nbconvert_exporter": "python",
   "pygments_lexer": "ipython3",
   "version": "3.9.9"
  }
 },
 "nbformat": 4,
 "nbformat_minor": 5
}
